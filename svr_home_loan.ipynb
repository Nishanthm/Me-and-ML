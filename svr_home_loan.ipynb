{
 "cells": [
  {
   "cell_type": "code",
   "execution_count": 4,
   "metadata": {},
   "outputs": [
    {
     "name": "stdout",
     "output_type": "stream",
     "text": [
      "Your Model Accuracy is 0.6949152542372882\n"
     ]
    }
   ],
   "source": [
    "#Import Library\n",
    "from sklearn import svm\n",
    "import pandas as pd\n",
    "from sklearn.metrics import accuracy_score\n",
    "import warnings\n",
    "warnings.filterwarnings('ignore')\n",
    "\n",
    "#Load Train and Test datasets\n",
    "#Identify feature and response variable(s) and values must be numeric and numpy arrays\n",
    "train=pd.read_csv('D:\\\\Nishanth\\\\Datasets\\\\svr_train.csv')\n",
    "train_y=train['Loan_Status']\n",
    "train_x=train.drop([\"Loan_Status\"],axis=1)\n",
    "\n",
    "test=pd.read_csv('D:\\\\Nishanth\\\\Datasets\\\\svr_test.csv')\n",
    "test_y=test['Loan_Status']\n",
    "test_x=test.drop([\"Loan_Status\"],axis=1)\n",
    "\n",
    "# Create Linear SVM object\n",
    "support = svm.LinearSVC(random_state=42)\n",
    "\n",
    "# Train the model using the training sets and check score on test dataset\n",
    "support.fit(train_x, train_y)\n",
    "predicted= support.predict(test_x)\n",
    "score=accuracy_score(test_y,predicted)\n",
    "print(\"Your Model Accuracy is\", score)"
   ]
  },
  {
   "cell_type": "code",
   "execution_count": null,
   "metadata": {},
   "outputs": [],
   "source": []
  }
 ],
 "metadata": {
  "kernelspec": {
   "display_name": "Python 3",
   "language": "python",
   "name": "python3"
  },
  "language_info": {
   "codemirror_mode": {
    "name": "ipython",
    "version": 3
   },
   "file_extension": ".py",
   "mimetype": "text/x-python",
   "name": "python",
   "nbconvert_exporter": "python",
   "pygments_lexer": "ipython3",
   "version": "3.7.6"
  }
 },
 "nbformat": 4,
 "nbformat_minor": 4
}
